{
 "cells": [
  {
   "cell_type": "markdown",
   "id": "9b1c0559",
   "metadata": {},
   "source": [
    "<p style='color:green;background-color:red;border-style:solid;border-color:blue;margin:5px;text-align:center;padding:5px'>Exploratory Data Analysis"
   ]
  },
  {
   "cell_type": "code",
   "execution_count": 1,
   "id": "5bbc5f9a",
   "metadata": {},
   "outputs": [],
   "source": [
    "#load the libraries\n",
    "import pandas as pd\n",
    "import numpy as np\n",
    "import matplotlib.pyplot as plt"
   ]
  },
  {
   "cell_type": "code",
   "execution_count": 2,
   "id": "66b7604f",
   "metadata": {},
   "outputs": [
    {
     "data": {
      "text/html": [
       "<div>\n",
       "<style scoped>\n",
       "    .dataframe tbody tr th:only-of-type {\n",
       "        vertical-align: middle;\n",
       "    }\n",
       "\n",
       "    .dataframe tbody tr th {\n",
       "        vertical-align: top;\n",
       "    }\n",
       "\n",
       "    .dataframe thead th {\n",
       "        text-align: right;\n",
       "    }\n",
       "</style>\n",
       "<table border=\"1\" class=\"dataframe\">\n",
       "  <thead>\n",
       "    <tr style=\"text-align: right;\">\n",
       "      <th></th>\n",
       "      <th>Unnamed: 0</th>\n",
       "      <th>Ozone</th>\n",
       "      <th>Solar.R</th>\n",
       "      <th>Wind</th>\n",
       "      <th>Temp C</th>\n",
       "      <th>Month</th>\n",
       "      <th>Day</th>\n",
       "      <th>Year</th>\n",
       "      <th>Temp</th>\n",
       "      <th>Weather</th>\n",
       "    </tr>\n",
       "  </thead>\n",
       "  <tbody>\n",
       "    <tr>\n",
       "      <th>0</th>\n",
       "      <td>1</td>\n",
       "      <td>41.0</td>\n",
       "      <td>190.0</td>\n",
       "      <td>7.4</td>\n",
       "      <td>67</td>\n",
       "      <td>5</td>\n",
       "      <td>1</td>\n",
       "      <td>2010</td>\n",
       "      <td>67</td>\n",
       "      <td>S</td>\n",
       "    </tr>\n",
       "    <tr>\n",
       "      <th>1</th>\n",
       "      <td>2</td>\n",
       "      <td>36.0</td>\n",
       "      <td>118.0</td>\n",
       "      <td>8.0</td>\n",
       "      <td>72</td>\n",
       "      <td>5</td>\n",
       "      <td>2</td>\n",
       "      <td>2010</td>\n",
       "      <td>72</td>\n",
       "      <td>C</td>\n",
       "    </tr>\n",
       "    <tr>\n",
       "      <th>2</th>\n",
       "      <td>3</td>\n",
       "      <td>12.0</td>\n",
       "      <td>149.0</td>\n",
       "      <td>12.6</td>\n",
       "      <td>74</td>\n",
       "      <td>5</td>\n",
       "      <td>3</td>\n",
       "      <td>2010</td>\n",
       "      <td>74</td>\n",
       "      <td>PS</td>\n",
       "    </tr>\n",
       "    <tr>\n",
       "      <th>3</th>\n",
       "      <td>4</td>\n",
       "      <td>18.0</td>\n",
       "      <td>313.0</td>\n",
       "      <td>11.5</td>\n",
       "      <td>62</td>\n",
       "      <td>5</td>\n",
       "      <td>4</td>\n",
       "      <td>2010</td>\n",
       "      <td>62</td>\n",
       "      <td>S</td>\n",
       "    </tr>\n",
       "    <tr>\n",
       "      <th>4</th>\n",
       "      <td>5</td>\n",
       "      <td>NaN</td>\n",
       "      <td>NaN</td>\n",
       "      <td>14.3</td>\n",
       "      <td>56</td>\n",
       "      <td>5</td>\n",
       "      <td>5</td>\n",
       "      <td>2010</td>\n",
       "      <td>56</td>\n",
       "      <td>S</td>\n",
       "    </tr>\n",
       "  </tbody>\n",
       "</table>\n",
       "</div>"
      ],
      "text/plain": [
       "   Unnamed: 0  Ozone  Solar.R  Wind Temp C Month  Day  Year  Temp Weather\n",
       "0           1   41.0    190.0   7.4     67     5    1  2010    67       S\n",
       "1           2   36.0    118.0   8.0     72     5    2  2010    72       C\n",
       "2           3   12.0    149.0  12.6     74     5    3  2010    74      PS\n",
       "3           4   18.0    313.0  11.5     62     5    4  2010    62       S\n",
       "4           5    NaN      NaN  14.3     56     5    5  2010    56       S"
      ]
     },
     "execution_count": 2,
     "metadata": {},
     "output_type": "execute_result"
    }
   ],
   "source": [
    "data = pd.read_csv(\"https://raw.githubusercontent.com/slmsshk-tech/DataSet1/main/data_clean.csv\")\n",
    "data.head()"
   ]
  },
  {
   "cell_type": "code",
   "execution_count": 3,
   "id": "87f5fafe",
   "metadata": {
    "scrolled": true
   },
   "outputs": [
    {
     "ename": "AttributeError",
     "evalue": "'DataFrame' object has no attribute 'tall'",
     "output_type": "error",
     "traceback": [
      "\u001b[1;31m---------------------------------------------------------------------------\u001b[0m",
      "\u001b[1;31mAttributeError\u001b[0m                            Traceback (most recent call last)",
      "\u001b[1;32m~\\AppData\\Local\\Temp/ipykernel_11132/1347340607.py\u001b[0m in \u001b[0;36m<module>\u001b[1;34m\u001b[0m\n\u001b[1;32m----> 1\u001b[1;33m \u001b[0mdata\u001b[0m\u001b[1;33m.\u001b[0m\u001b[0mtall\u001b[0m\u001b[1;33m(\u001b[0m\u001b[1;33m)\u001b[0m\u001b[1;33m\u001b[0m\u001b[1;33m\u001b[0m\u001b[0m\n\u001b[0m",
      "\u001b[1;32m~\\anaconda31\\lib\\site-packages\\pandas\\core\\generic.py\u001b[0m in \u001b[0;36m__getattr__\u001b[1;34m(self, name)\u001b[0m\n\u001b[0;32m   5485\u001b[0m         ):\n\u001b[0;32m   5486\u001b[0m             \u001b[1;32mreturn\u001b[0m \u001b[0mself\u001b[0m\u001b[1;33m[\u001b[0m\u001b[0mname\u001b[0m\u001b[1;33m]\u001b[0m\u001b[1;33m\u001b[0m\u001b[1;33m\u001b[0m\u001b[0m\n\u001b[1;32m-> 5487\u001b[1;33m         \u001b[1;32mreturn\u001b[0m \u001b[0mobject\u001b[0m\u001b[1;33m.\u001b[0m\u001b[0m__getattribute__\u001b[0m\u001b[1;33m(\u001b[0m\u001b[0mself\u001b[0m\u001b[1;33m,\u001b[0m \u001b[0mname\u001b[0m\u001b[1;33m)\u001b[0m\u001b[1;33m\u001b[0m\u001b[1;33m\u001b[0m\u001b[0m\n\u001b[0m\u001b[0;32m   5488\u001b[0m \u001b[1;33m\u001b[0m\u001b[0m\n\u001b[0;32m   5489\u001b[0m     \u001b[1;32mdef\u001b[0m \u001b[0m__setattr__\u001b[0m\u001b[1;33m(\u001b[0m\u001b[0mself\u001b[0m\u001b[1;33m,\u001b[0m \u001b[0mname\u001b[0m\u001b[1;33m:\u001b[0m \u001b[0mstr\u001b[0m\u001b[1;33m,\u001b[0m \u001b[0mvalue\u001b[0m\u001b[1;33m)\u001b[0m \u001b[1;33m->\u001b[0m \u001b[1;32mNone\u001b[0m\u001b[1;33m:\u001b[0m\u001b[1;33m\u001b[0m\u001b[1;33m\u001b[0m\u001b[0m\n",
      "\u001b[1;31mAttributeError\u001b[0m: 'DataFrame' object has no attribute 'tall'"
     ]
    }
   ],
   "source": [
    "data.tall()"
   ]
  },
  {
   "cell_type": "code",
   "execution_count": null,
   "id": "453d436d",
   "metadata": {},
   "outputs": [],
   "source": [
    "data.info()"
   ]
  },
  {
   "cell_type": "code",
   "execution_count": null,
   "id": "3c8386f2",
   "metadata": {},
   "outputs": [],
   "source": [
    "data"
   ]
  },
  {
   "cell_type": "code",
   "execution_count": null,
   "id": "5187a3c7",
   "metadata": {},
   "outputs": [],
   "source": [
    "data.tail(10)"
   ]
  },
  {
   "cell_type": "code",
   "execution_count": null,
   "id": "ebca54a5",
   "metadata": {},
   "outputs": [],
   "source": [
    "data.shape"
   ]
  },
  {
   "cell_type": "code",
   "execution_count": null,
   "id": "5d7f13a8",
   "metadata": {},
   "outputs": [],
   "source": [
    "data.describe()"
   ]
  },
  {
   "cell_type": "code",
   "execution_count": null,
   "id": "2d094192",
   "metadata": {},
   "outputs": [],
   "source": [
    "data.info()"
   ]
  },
  {
   "cell_type": "code",
   "execution_count": null,
   "id": "aba29851",
   "metadata": {},
   "outputs": [],
   "source": [
    "data['Month']=pd.to_numeric(data['Month'],errors='coerce') #[1,1.5,NAN] january NA\n",
    "data['Temp C']=pd.to_numeric(data['Temp C'],errors='coerce')# coerce will introduce NA values for non numeric data in the columns\n",
    "data['Weather']=data['Weather'].astype('category')           #data['Wind']=data['Wind'].astype('int64')"
   ]
  },
  {
   "cell_type": "code",
   "execution_count": null,
   "id": "92d28ac1",
   "metadata": {},
   "outputs": [],
   "source": [
    "data.info()"
   ]
  },
  {
   "cell_type": "markdown",
   "id": "c90431eb",
   "metadata": {},
   "source": [
    "<h2 style=\"background-color:rgb(255, 99, 71);\">Duplicates</h2>"
   ]
  },
  {
   "cell_type": "code",
   "execution_count": null,
   "id": "6e574feb",
   "metadata": {},
   "outputs": [],
   "source": [
    "data.iloc[5]=data.loc[15]"
   ]
  },
  {
   "cell_type": "code",
   "execution_count": null,
   "id": "fd71f7b6",
   "metadata": {},
   "outputs": [],
   "source": [
    "data.duplicated()"
   ]
  },
  {
   "cell_type": "code",
   "execution_count": null,
   "id": "918a937c",
   "metadata": {},
   "outputs": [],
   "source": [
    "data.iloc[5]=data.loc[15]"
   ]
  },
  {
   "cell_type": "code",
   "execution_count": null,
   "id": "03bda021",
   "metadata": {},
   "outputs": [],
   "source": [
    "data.duplicated()"
   ]
  },
  {
   "cell_type": "code",
   "execution_count": null,
   "id": "31a421d7",
   "metadata": {},
   "outputs": [],
   "source": [
    "l=[1,2,3]"
   ]
  },
  {
   "cell_type": "code",
   "execution_count": null,
   "id": "0981f010",
   "metadata": {},
   "outputs": [],
   "source": [
    "l[1:2]"
   ]
  },
  {
   "cell_type": "code",
   "execution_count": null,
   "id": "c907433b",
   "metadata": {},
   "outputs": [],
   "source": [
    "data.columns"
   ]
  },
  {
   "cell_type": "code",
   "execution_count": null,
   "id": "e5280f06",
   "metadata": {},
   "outputs": [],
   "source": [
    "data['Weather'].value_counts()"
   ]
  },
  {
   "cell_type": "code",
   "execution_count": null,
   "id": "5a887b64",
   "metadata": {},
   "outputs": [],
   "source": [
    "data[data['Weather']=='PS']"
   ]
  },
  {
   "cell_type": "code",
   "execution_count": null,
   "id": "8f81faad",
   "metadata": {},
   "outputs": [],
   "source": [
    "#Count of duplicated rows\n",
    "data[data.duplicated()].shape"
   ]
  },
  {
   "cell_type": "code",
   "execution_count": null,
   "id": "01c447a9",
   "metadata": {},
   "outputs": [],
   "source": [
    "data"
   ]
  },
  {
   "cell_type": "code",
   "execution_count": null,
   "id": "c4146dbe",
   "metadata": {},
   "outputs": [],
   "source": [
    "#Print the duplicated rows\n",
    "data[data.duplicated()]"
   ]
  },
  {
   "cell_type": "code",
   "execution_count": null,
   "id": "d8a69322",
   "metadata": {},
   "outputs": [],
   "source": [
    "data2=data.copy()"
   ]
  },
  {
   "cell_type": "code",
   "execution_count": null,
   "id": "51bcee8c",
   "metadata": {},
   "outputs": [],
   "source": [
    "data_cleaned1=data.drop_duplicates()"
   ]
  },
  {
   "cell_type": "code",
   "execution_count": null,
   "id": "40f1cdf6",
   "metadata": {},
   "outputs": [],
   "source": [
    "data_cleaned1.shape"
   ]
  },
  {
   "cell_type": "markdown",
   "id": "9a10fac5",
   "metadata": {},
   "source": [
    "<h1 style=\"background-color:rgba(255, 99, 71, 0.5);\">Drop columns</h1>"
   ]
  },
  {
   "cell_type": "code",
   "execution_count": null,
   "id": "8b61db17",
   "metadata": {},
   "outputs": [],
   "source": [
    "data"
   ]
  },
  {
   "cell_type": "code",
   "execution_count": null,
   "id": "42fb8199",
   "metadata": {},
   "outputs": [],
   "source": [
    "data_cleaned2=data_cleaned1.drop(['Temp C','Unnamed: 0'],axis=1)"
   ]
  },
  {
   "cell_type": "code",
   "execution_count": null,
   "id": "23ee8176",
   "metadata": {},
   "outputs": [],
   "source": [
    "data_cleaned2.head(1)"
   ]
  },
  {
   "cell_type": "markdown",
   "id": "c9c782ec",
   "metadata": {},
   "source": [
    "<h1 style=\"border:2px solid DodgerBlue;\">\n",
    "Rename the columns</h1>"
   ]
  },
  {
   "cell_type": "code",
   "execution_count": null,
   "id": "baa21fef",
   "metadata": {},
   "outputs": [],
   "source": [
    "#rename the Solar column\n",
    "name={'Solar.R': 'Solar'}\n",
    "data_cleaned3 = data_cleaned2.rename(name, axis=1)"
   ]
  },
  {
   "cell_type": "code",
   "execution_count": null,
   "id": "9f3a361a",
   "metadata": {},
   "outputs": [],
   "source": [
    "data_cleaned3.head(1)"
   ]
  },
  {
   "cell_type": "markdown",
   "id": "4e8eaf63",
   "metadata": {},
   "source": [
    "<h1 style=\"background-color:yellow;\">Missing Values and Imputation</h1>"
   ]
  },
  {
   "cell_type": "code",
   "execution_count": null,
   "id": "83c50bde",
   "metadata": {},
   "outputs": [],
   "source": [
    "import seaborn as sns"
   ]
  },
  {
   "cell_type": "code",
   "execution_count": null,
   "id": "e021a96b",
   "metadata": {},
   "outputs": [],
   "source": [
    "sns.heatmap(data_cleaned3.isnull(),cmap=['yellow','red'])"
   ]
  },
  {
   "cell_type": "code",
   "execution_count": null,
   "id": "71f5037a",
   "metadata": {},
   "outputs": [],
   "source": [
    "import seaborn as sns\n",
    "cols = data_cleaned3.columns \n",
    "colours = ['#000099', '#ffff00'] # specify the colours - yellow is missing. blue is not missing.\n"
   ]
  },
  {
   "cell_type": "code",
   "execution_count": null,
   "id": "f0160ee6",
   "metadata": {},
   "outputs": [],
   "source": [
    "data_cleaned3[data_cleaned3.isnull().any(axis=1)].head()"
   ]
  },
  {
   "cell_type": "code",
   "execution_count": null,
   "id": "cfba8586",
   "metadata": {},
   "outputs": [],
   "source": [
    "data_cleaned3.isnull().sum()*100/len(data_cleaned3)"
   ]
  },
  {
   "cell_type": "code",
   "execution_count": null,
   "id": "0b018e31",
   "metadata": {},
   "outputs": [],
   "source": [
    "from sklearn.impute import KNNImputer"
   ]
  },
  {
   "cell_type": "code",
   "execution_count": null,
   "id": "b80a79a6",
   "metadata": {},
   "outputs": [],
   "source": [
    "data_cleaned3['Ozone']=KNNImputer().fit_transform(data_cleaned3[{'Ozone'}])"
   ]
  },
  {
   "cell_type": "code",
   "execution_count": null,
   "id": "8a022f8c",
   "metadata": {},
   "outputs": [],
   "source": [
    "data_cleaned3.isnull().sum()"
   ]
  },
  {
   "cell_type": "code",
   "execution_count": null,
   "id": "244602b6",
   "metadata": {},
   "outputs": [],
   "source": [
    "data_cleaned3.Solar.isnull().sum()"
   ]
  },
  {
   "cell_type": "code",
   "execution_count": null,
   "id": "1340db3a",
   "metadata": {},
   "outputs": [],
   "source": [
    "data_cleaned3.dtypes"
   ]
  },
  {
   "cell_type": "code",
   "execution_count": null,
   "id": "5f9cf074",
   "metadata": {},
   "outputs": [],
   "source": [
    "#Mean Imputationa\n",
    "mean = data_cleaned3['Solar'].median()\n",
    "print(mean)"
   ]
  },
  {
   "cell_type": "code",
   "execution_count": null,
   "id": "09ff88a6",
   "metadata": {},
   "outputs": [],
   "source": [
    "data_cleaned3['Solar'] = data_cleaned3['Solar'].fillna(mean)"
   ]
  },
  {
   "cell_type": "code",
   "execution_count": null,
   "id": "6d00c069",
   "metadata": {},
   "outputs": [],
   "source": [
    "data_cleaned3\n",
    "# Plot boxplot"
   ]
  },
  {
   "cell_type": "code",
   "execution_count": null,
   "id": "4c8d2ba4",
   "metadata": {},
   "outputs": [],
   "source": [
    "mode=data_cleaned3.Weather.mode()[0]"
   ]
  },
  {
   "cell_type": "code",
   "execution_count": null,
   "id": "7ae31611",
   "metadata": {},
   "outputs": [],
   "source": [
    "data_cleaned3['Weather']=data_cleaned3['Weather'].fillna(mode)"
   ]
  },
  {
   "cell_type": "code",
   "execution_count": null,
   "id": "0b65b3b6",
   "metadata": {},
   "outputs": [],
   "source": [
    "data_cleaned3.isnull().sum()"
   ]
  },
  {
   "cell_type": "code",
   "execution_count": null,
   "id": "063cffac",
   "metadata": {},
   "outputs": [],
   "source": [
    "data.shape"
   ]
  },
  {
   "cell_type": "code",
   "execution_count": null,
   "id": "2cf98aec",
   "metadata": {},
   "outputs": [],
   "source": [
    "mean=data_cleaned3['Month'].mean()\n",
    "mean"
   ]
  },
  {
   "cell_type": "code",
   "execution_count": null,
   "id": "e5751748",
   "metadata": {},
   "outputs": [],
   "source": [
    "data_cleaned3['Month']=data_cleaned3['Month'].fillna(mean)"
   ]
  },
  {
   "cell_type": "code",
   "execution_count": null,
   "id": "5289b4df",
   "metadata": {},
   "outputs": [],
   "source": [
    "data_cleaned3.isnull().sum()"
   ]
  },
  {
   "cell_type": "code",
   "execution_count": null,
   "id": "fdc8e2e8",
   "metadata": {},
   "outputs": [],
   "source": [
    "#Missing value imputation for categorical vlaue\n",
    "#Get the object columns\n",
    "obj_columns=data_cleaned3[['Weather']]"
   ]
  },
  {
   "cell_type": "code",
   "execution_count": null,
   "id": "25ba7a99",
   "metadata": {},
   "outputs": [],
   "source": [
    "obj_columns.isnull().sum()"
   ]
  },
  {
   "cell_type": "code",
   "execution_count": null,
   "id": "ba70baa0",
   "metadata": {},
   "outputs": [],
   "source": [
    "#Missing value imputation for categorical vlaue\n",
    "# df.mode\n",
    "# df.median//////\n",
    "obj_columns=obj_columns.fillna(obj_columns.mode().iloc[0])"
   ]
  },
  {
   "cell_type": "code",
   "execution_count": null,
   "id": "6509bb55",
   "metadata": {},
   "outputs": [],
   "source": [
    "obj_columns.isnull().sum()\n",
    "data.boxplot()"
   ]
  },
  {
   "cell_type": "code",
   "execution_count": null,
   "id": "4b8e6450",
   "metadata": {},
   "outputs": [],
   "source": [
    "data_cleaned3"
   ]
  },
  {
   "cell_type": "code",
   "execution_count": null,
   "id": "376f477f",
   "metadata": {},
   "outputs": [],
   "source": [
    "obj_columns.shape"
   ]
  },
  {
   "cell_type": "code",
   "execution_count": null,
   "id": "52b315ed",
   "metadata": {},
   "outputs": [],
   "source": [
    "#data_cleaned4=data_cleaned3.drop(['Weather'],axis=1,inplace=True"
   ]
  },
  {
   "cell_type": "code",
   "execution_count": null,
   "id": "04a25c47",
   "metadata": {},
   "outputs": [],
   "source": [
    "#Join the data set with imputed object dataset\n",
    "data_cleaned4=pd.concat([data_cleaned3,obj_columns],axis=1)"
   ]
  },
  {
   "cell_type": "code",
   "execution_count": null,
   "id": "09aa8350",
   "metadata": {},
   "outputs": [],
   "source": [
    "data_cleaned4.isnull().sum()"
   ]
  },
  {
   "cell_type": "code",
   "execution_count": null,
   "id": "509ee080",
   "metadata": {},
   "outputs": [],
   "source": [
    "data_cleaned4"
   ]
  },
  {
   "cell_type": "code",
   "execution_count": null,
   "id": "aa4ba70a",
   "metadata": {},
   "outputs": [],
   "source": [
    "#Bar plot\n",
    "data['Weather'].value_counts().plot.bar()"
   ]
  },
  {
   "cell_type": "markdown",
   "id": "cbf5b19f",
   "metadata": {},
   "source": [
    "<h1 style=\"background-color:red;\">Outlier Detection</h1>"
   ]
  },
  {
   "cell_type": "code",
   "execution_count": null,
   "id": "34cf2c1e",
   "metadata": {},
   "outputs": [],
   "source": [
    "# histogram of Ozone\n",
    "data_cleaned3['Ozone'].hist()"
   ]
  },
  {
   "cell_type": "code",
   "execution_count": null,
   "id": "94324aaa",
   "metadata": {},
   "outputs": [],
   "source": [
    "#Box plot\n",
    "data_box=data_cleaned3.dropna()\n",
    "data1_box=data_box.Ozone\n",
    "plt.boxplot(data1_box)"
   ]
  },
  {
   "cell_type": "code",
   "execution_count": null,
   "id": "4ba966af",
   "metadata": {},
   "outputs": [],
   "source": [
    "box.items()"
   ]
  },
  {
   "cell_type": "code",
   "execution_count": null,
   "id": "0fa283b0",
   "metadata": {},
   "outputs": [],
   "source": [
    "l=[]\n",
    "for i in range(10):\n",
    "   l.append(i) \n",
    "\n",
    "l"
   ]
  },
  {
   "cell_type": "code",
   "execution_count": null,
   "id": "1e5e467f",
   "metadata": {},
   "outputs": [],
   "source": [
    "l=[i for i in range(10)]\n",
    "l"
   ]
  },
  {
   "cell_type": "code",
   "execution_count": null,
   "id": "95042df0",
   "metadata": {},
   "outputs": [],
   "source": [
    "box['fliers']"
   ]
  },
  {
   "cell_type": "code",
   "execution_count": null,
   "id": "6ef8c0da",
   "metadata": {},
   "outputs": [],
   "source": [
    "[item.get_ydata() for item in box['fliers']] #fliers are outliers"
   ]
  },
  {
   "cell_type": "code",
   "execution_count": null,
   "id": "204ceb6a",
   "metadata": {},
   "outputs": [],
   "source": [
    "plt.boxplot(data_cleaned3['Ozone'])"
   ]
  },
  {
   "cell_type": "code",
   "execution_count": null,
   "id": "28bdcc46",
   "metadata": {},
   "outputs": [],
   "source": [
    "#To get the whiskers\n",
    "[item.get_ydata()[1] for item in box['whiskers']]"
   ]
  },
  {
   "cell_type": "code",
   "execution_count": null,
   "id": "ebff5151",
   "metadata": {},
   "outputs": [],
   "source": [
    "#Descriptive stat\n",
    "data_cleaned3['Ozone'].describe()"
   ]
  },
  {
   "cell_type": "code",
   "execution_count": null,
   "id": "f1a1dceb",
   "metadata": {},
   "outputs": [],
   "source": [
    "data_cleaned3"
   ]
  },
  {
   "cell_type": "markdown",
   "id": "adb58e5c",
   "metadata": {},
   "source": [
    "<h1 style=\"background-color:rgba(255, 99, 71, 0.5);\">Drop columns</h1>"
   ]
  },
  {
   "cell_type": "code",
   "execution_count": null,
   "id": "7ebf3912",
   "metadata": {},
   "outputs": [],
   "source": [
    "data_cleaned3.columns"
   ]
  },
  {
   "cell_type": "code",
   "execution_count": null,
   "id": "a366903c",
   "metadata": {},
   "outputs": [],
   "source": [
    "pd.plotting.scatter_matrix(data_cleaned3)"
   ]
  },
  {
   "cell_type": "code",
   "execution_count": null,
   "id": "a144cb18",
   "metadata": {},
   "outputs": [],
   "source": [
    "import warnings\n",
    "warnings.filterwarnings('ignore')\n",
    "\n",
    "# Seaborn visualization library\n",
    "import seaborn as sns\n",
    "# Create the default pairplot\n",
    "# pd.plotting.scatter_matrix(data_cleaned3)\n",
    "sns.pairplot(data_cleaned3)"
   ]
  },
  {
   "cell_type": "code",
   "execution_count": null,
   "id": "21b0ff8e",
   "metadata": {},
   "outputs": [],
   "source": [
    "#Correlation\n",
    "data_cleaned3.corr()"
   ]
  },
  {
   "cell_type": "markdown",
   "id": "8088f102",
   "metadata": {},
   "source": [
    "<h1 style=\"border:2px solid Violet;\">Transformations</h1>"
   ]
  },
  {
   "cell_type": "code",
   "execution_count": null,
   "id": "749edd05",
   "metadata": {},
   "outputs": [],
   "source": [
    "from sklearn.preprocessing import OneHotEncoder\n",
    "\n",
    "ohe=OneHotEncoder(sparse=False)\n",
    "ohe.fit_transform(data_cleaned3[['Weather']])"
   ]
  },
  {
   "cell_type": "code",
   "execution_count": null,
   "id": "14c08189",
   "metadata": {},
   "outputs": [],
   "source": [
    "ohe.inverse_transform([[0,0,1]])"
   ]
  },
  {
   "cell_type": "code",
   "execution_count": null,
   "id": "e4541f17",
   "metadata": {},
   "outputs": [],
   "source": [
    "pd.get_dummies(data_cleaned3.Weather)"
   ]
  },
  {
   "cell_type": "markdown",
   "id": "02bdd4bb",
   "metadata": {},
   "source": [
    "<h2 style=\"border:2px solid Tomato;\">Dummy Variable</h2>"
   ]
  },
  {
   "cell_type": "code",
   "execution_count": null,
   "id": "c771c4ed",
   "metadata": {},
   "outputs": [],
   "source": [
    "from sklearn.preprocessing import LabelEncoder\n",
    "\n",
    "le=LabelEncoder()\n",
    "Y=lefit_transform(data_cleaned3[['Weather']])\n",
    "Y."
   ]
  },
  {
   "cell_type": "code",
   "execution_count": null,
   "id": "15872080",
   "metadata": {},
   "outputs": [],
   "source": [
    "le.inverse_transform([1,2,0])"
   ]
  },
  {
   "cell_type": "code",
   "execution_count": null,
   "id": "61c4e015",
   "metadata": {},
   "outputs": [],
   "source": [
    "data_cleaned3"
   ]
  },
  {
   "cell_type": "code",
   "execution_count": null,
   "id": "ed8d7b71",
   "metadata": {},
   "outputs": [],
   "source": [
    "#Creating dummy variable for Weather column\n",
    "data_cleaned4=pd.get_dummies(data)\n",
    "data_cleaned4"
   ]
  },
  {
   "cell_type": "code",
   "execution_count": null,
   "id": "6d6bffbf",
   "metadata": {},
   "outputs": [],
   "source": [
    "data_cleaned4"
   ]
  },
  {
   "cell_type": "code",
   "execution_count": null,
   "id": "1078c8b8",
   "metadata": {},
   "outputs": [],
   "source": [
    "data_cleaned4=data_cleaned4.dropna()"
   ]
  },
  {
   "cell_type": "markdown",
   "id": "05452762",
   "metadata": {},
   "source": [
    "<h1 style=\"background-color:green;\">Normalization of the data\n",
    "</h1>"
   ]
  },
  {
   "cell_type": "code",
   "execution_count": null,
   "id": "4d6b5b85",
   "metadata": {},
   "outputs": [],
   "source": [
    "#Normalization of the data\n",
    "# from numpy import set_printoptions\n",
    "from sklearn.preprocessing import MinMaxScaler,StandardScaler"
   ]
  },
  {
   "cell_type": "code",
   "execution_count": null,
   "id": "8b629b7e",
   "metadata": {},
   "outputs": [],
   "source": [
    "StandardScaler().fit_transform(data_cleaned4[['Ozone']])"
   ]
  },
  {
   "cell_type": "code",
   "execution_count": null,
   "id": "b1cc43f6",
   "metadata": {},
   "outputs": [],
   "source": [
    "data_cleaned4.values"
   ]
  },
  {
   "cell_type": "code",
   "execution_count": null,
   "id": "cfd3b54f",
   "metadata": {},
   "outputs": [],
   "source": [
    "array = data_cleaned4.values\n",
    "\n",
    "scaler = MinMaxScaler(feature_range=(0,1))\n",
    "rescaledX = scaler.fit_transform(array)\n",
    "\n",
    "#transformed data\n",
    "set_printoptions(precision=2)\n",
    "print(rescaledX[0:5,:])"
   ]
  },
  {
   "cell_type": "code",
   "execution_count": null,
   "id": "7bffe4b5",
   "metadata": {},
   "outputs": [],
   "source": [
    "# Standardize data (0 mean, 1 stdev)\n",
    "from sklearn.preprocessing import StandardScaler"
   ]
  },
  {
   "cell_type": "code",
   "execution_count": null,
   "id": "1b757691",
   "metadata": {},
   "outputs": [],
   "source": [
    "array = data_cleaned4.values\n",
    "scaler = StandardScaler()\n",
    "scaler.fit(array)\n",
    "rescaledX = scaler.transform(array)\n",
    "\n",
    "# summarize transformed data\n",
    "set_printoptions(precision=2)\n",
    "print(rescaledX[0:5,:])"
   ]
  },
  {
   "cell_type": "markdown",
   "id": "cb39bd43",
   "metadata": {},
   "source": [
    "<h1 style=\"background-color:blue;\">Welcome in basic EDA</h1>"
   ]
  },
  {
   "cell_type": "code",
   "execution_count": null,
   "id": "adc3ee9e",
   "metadata": {},
   "outputs": [],
   "source": [
    "!pip install pandas-profiling\n",
    "!pip install sweetviz"
   ]
  },
  {
   "cell_type": "code",
   "execution_count": null,
   "id": "d8e38d73",
   "metadata": {},
   "outputs": [],
   "source": [
    "import pandas_profiling as pp\n",
    "import sweetviz as sv"
   ]
  },
  {
   "cell_type": "code",
   "execution_count": null,
   "id": "99d1f4f1",
   "metadata": {},
   "outputs": [],
   "source": [
    "EDA_report= pp.ProfileReport(data,vars={\"num\": {\"low_categorical_threshold\": 0}})\n",
    "EDA_report.to_file(output_file='report2.html')"
   ]
  },
  {
   "cell_type": "code",
   "execution_count": null,
   "id": "0c3e04f0",
   "metadata": {},
   "outputs": [],
   "source": [
    "sweet_report = sv.analyze(data)\n",
    "sweet_report.show_html('weather_report.html')"
   ]
  }
 ],
 "metadata": {
  "kernelspec": {
   "display_name": "Python 3 (ipykernel)",
   "language": "python",
   "name": "python3"
  },
  "language_info": {
   "codemirror_mode": {
    "name": "ipython",
    "version": 3
   },
   "file_extension": ".py",
   "mimetype": "text/x-python",
   "name": "python",
   "nbconvert_exporter": "python",
   "pygments_lexer": "ipython3",
   "version": "3.9.7"
  }
 },
 "nbformat": 4,
 "nbformat_minor": 5
}
